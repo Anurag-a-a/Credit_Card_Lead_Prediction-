{
 "cells": [
  {
   "cell_type": "code",
   "execution_count": 71,
   "metadata": {},
   "outputs": [],
   "source": [
    "import pandas as pd"
   ]
  },
  {
   "cell_type": "code",
   "execution_count": 72,
   "metadata": {},
   "outputs": [],
   "source": [
    "df = pd.read_csv('transformed_data.csv')"
   ]
  },
  {
   "cell_type": "code",
   "execution_count": 73,
   "metadata": {},
   "outputs": [
    {
     "data": {
      "text/html": [
       "<div>\n",
       "<style scoped>\n",
       "    .dataframe tbody tr th:only-of-type {\n",
       "        vertical-align: middle;\n",
       "    }\n",
       "\n",
       "    .dataframe tbody tr th {\n",
       "        vertical-align: top;\n",
       "    }\n",
       "\n",
       "    .dataframe thead th {\n",
       "        text-align: right;\n",
       "    }\n",
       "</style>\n",
       "<table border=\"1\" class=\"dataframe\">\n",
       "  <thead>\n",
       "    <tr style=\"text-align: right;\">\n",
       "      <th></th>\n",
       "      <th>Gender</th>\n",
       "      <th>Age</th>\n",
       "      <th>Region_Code</th>\n",
       "      <th>Occupation</th>\n",
       "      <th>Channel_Code</th>\n",
       "      <th>Vintage</th>\n",
       "      <th>Credit_Product</th>\n",
       "      <th>Avg_Account_Balance</th>\n",
       "      <th>Is_Active</th>\n",
       "      <th>Is_Lead</th>\n",
       "    </tr>\n",
       "  </thead>\n",
       "  <tbody>\n",
       "    <tr>\n",
       "      <th>count</th>\n",
       "      <td>216400.000000</td>\n",
       "      <td>216400.000000</td>\n",
       "      <td>216400.000000</td>\n",
       "      <td>216400.000000</td>\n",
       "      <td>216400.000000</td>\n",
       "      <td>216400.000000</td>\n",
       "      <td>216400.000000</td>\n",
       "      <td>2.164000e+05</td>\n",
       "      <td>216400.000000</td>\n",
       "      <td>216400.000000</td>\n",
       "    </tr>\n",
       "    <tr>\n",
       "      <th>mean</th>\n",
       "      <td>0.535670</td>\n",
       "      <td>42.807315</td>\n",
       "      <td>10.403614</td>\n",
       "      <td>1.132052</td>\n",
       "      <td>1.048997</td>\n",
       "      <td>44.285522</td>\n",
       "      <td>0.332916</td>\n",
       "      <td>1.115086e+06</td>\n",
       "      <td>0.376774</td>\n",
       "      <td>0.153942</td>\n",
       "    </tr>\n",
       "    <tr>\n",
       "      <th>std</th>\n",
       "      <td>0.498727</td>\n",
       "      <td>14.850996</td>\n",
       "      <td>9.008064</td>\n",
       "      <td>0.832000</td>\n",
       "      <td>0.774418</td>\n",
       "      <td>31.235351</td>\n",
       "      <td>0.471258</td>\n",
       "      <td>8.500172e+05</td>\n",
       "      <td>0.484579</td>\n",
       "      <td>0.360894</td>\n",
       "    </tr>\n",
       "    <tr>\n",
       "      <th>min</th>\n",
       "      <td>0.000000</td>\n",
       "      <td>23.000000</td>\n",
       "      <td>0.000000</td>\n",
       "      <td>0.000000</td>\n",
       "      <td>0.000000</td>\n",
       "      <td>7.000000</td>\n",
       "      <td>0.000000</td>\n",
       "      <td>2.079000e+04</td>\n",
       "      <td>0.000000</td>\n",
       "      <td>0.000000</td>\n",
       "    </tr>\n",
       "    <tr>\n",
       "      <th>25%</th>\n",
       "      <td>0.000000</td>\n",
       "      <td>29.000000</td>\n",
       "      <td>3.000000</td>\n",
       "      <td>0.000000</td>\n",
       "      <td>0.000000</td>\n",
       "      <td>20.000000</td>\n",
       "      <td>0.000000</td>\n",
       "      <td>5.958438e+05</td>\n",
       "      <td>0.000000</td>\n",
       "      <td>0.000000</td>\n",
       "    </tr>\n",
       "    <tr>\n",
       "      <th>50%</th>\n",
       "      <td>1.000000</td>\n",
       "      <td>41.000000</td>\n",
       "      <td>7.000000</td>\n",
       "      <td>1.000000</td>\n",
       "      <td>1.000000</td>\n",
       "      <td>31.000000</td>\n",
       "      <td>0.000000</td>\n",
       "      <td>8.805390e+05</td>\n",
       "      <td>0.000000</td>\n",
       "      <td>0.000000</td>\n",
       "    </tr>\n",
       "    <tr>\n",
       "      <th>75%</th>\n",
       "      <td>1.000000</td>\n",
       "      <td>53.000000</td>\n",
       "      <td>15.000000</td>\n",
       "      <td>2.000000</td>\n",
       "      <td>2.000000</td>\n",
       "      <td>67.000000</td>\n",
       "      <td>1.000000</td>\n",
       "      <td>1.346543e+06</td>\n",
       "      <td>1.000000</td>\n",
       "      <td>0.000000</td>\n",
       "    </tr>\n",
       "    <tr>\n",
       "      <th>max</th>\n",
       "      <td>1.000000</td>\n",
       "      <td>85.000000</td>\n",
       "      <td>34.000000</td>\n",
       "      <td>3.000000</td>\n",
       "      <td>3.000000</td>\n",
       "      <td>135.000000</td>\n",
       "      <td>1.000000</td>\n",
       "      <td>1.035201e+07</td>\n",
       "      <td>1.000000</td>\n",
       "      <td>1.000000</td>\n",
       "    </tr>\n",
       "  </tbody>\n",
       "</table>\n",
       "</div>"
      ],
      "text/plain": [
       "              Gender            Age    Region_Code     Occupation  \\\n",
       "count  216400.000000  216400.000000  216400.000000  216400.000000   \n",
       "mean        0.535670      42.807315      10.403614       1.132052   \n",
       "std         0.498727      14.850996       9.008064       0.832000   \n",
       "min         0.000000      23.000000       0.000000       0.000000   \n",
       "25%         0.000000      29.000000       3.000000       0.000000   \n",
       "50%         1.000000      41.000000       7.000000       1.000000   \n",
       "75%         1.000000      53.000000      15.000000       2.000000   \n",
       "max         1.000000      85.000000      34.000000       3.000000   \n",
       "\n",
       "        Channel_Code        Vintage  Credit_Product  Avg_Account_Balance  \\\n",
       "count  216400.000000  216400.000000   216400.000000         2.164000e+05   \n",
       "mean        1.048997      44.285522        0.332916         1.115086e+06   \n",
       "std         0.774418      31.235351        0.471258         8.500172e+05   \n",
       "min         0.000000       7.000000        0.000000         2.079000e+04   \n",
       "25%         0.000000      20.000000        0.000000         5.958438e+05   \n",
       "50%         1.000000      31.000000        0.000000         8.805390e+05   \n",
       "75%         2.000000      67.000000        1.000000         1.346543e+06   \n",
       "max         3.000000     135.000000        1.000000         1.035201e+07   \n",
       "\n",
       "           Is_Active        Is_Lead  \n",
       "count  216400.000000  216400.000000  \n",
       "mean        0.376774       0.153942  \n",
       "std         0.484579       0.360894  \n",
       "min         0.000000       0.000000  \n",
       "25%         0.000000       0.000000  \n",
       "50%         0.000000       0.000000  \n",
       "75%         1.000000       0.000000  \n",
       "max         1.000000       1.000000  "
      ]
     },
     "execution_count": 73,
     "metadata": {},
     "output_type": "execute_result"
    }
   ],
   "source": [
    "df.describe()"
   ]
  },
  {
   "cell_type": "code",
   "execution_count": 74,
   "metadata": {},
   "outputs": [],
   "source": [
    "from imblearn.under_sampling import RandomUnderSampler\n",
    "\n",
    "X = df[['Gender', 'Age', 'Region_Code', 'Occupation', 'Channel_Code', 'Vintage', 'Credit_Product', 'Avg_Account_Balance', 'Is_Active']]\n",
    "y = df['Is_Lead']\n",
    "\n",
    "rus = RandomUnderSampler(sampling_strategy='majority', random_state=666)\n",
    "X_balanced, y_balanced = rus.fit_resample(X, y)"
   ]
  },
  {
   "cell_type": "markdown",
   "metadata": {},
   "source": [
    "# Random Forest"
   ]
  },
  {
   "cell_type": "code",
   "execution_count": 75,
   "metadata": {},
   "outputs": [],
   "source": [
    "from sklearn.model_selection import train_test_split\n",
    "\n",
    "X_train, X_test, y_train, y_test = train_test_split(X_balanced, y_balanced, test_size=0.3, random_state=666)"
   ]
  },
  {
   "cell_type": "code",
   "execution_count": 76,
   "metadata": {},
   "outputs": [
    {
     "name": "stdout",
     "output_type": "stream",
     "text": [
      "Original class distribution: Is_Lead\n",
      "0    183087\n",
      "1     33313\n",
      "Name: count, dtype: int64\n",
      "Balanced class distribution: Is_Lead\n",
      "0    33313\n",
      "1    33313\n",
      "Name: count, dtype: int64\n"
     ]
    }
   ],
   "source": [
    "print('Original class distribution: ', y.value_counts())\n",
    "print('Balanced class distribution: ', y_balanced.value_counts())"
   ]
  },
  {
   "cell_type": "code",
   "execution_count": 77,
   "metadata": {},
   "outputs": [
    {
     "data": {
      "text/html": [
       "<style>#sk-container-id-3 {color: black;}#sk-container-id-3 pre{padding: 0;}#sk-container-id-3 div.sk-toggleable {background-color: white;}#sk-container-id-3 label.sk-toggleable__label {cursor: pointer;display: block;width: 100%;margin-bottom: 0;padding: 0.3em;box-sizing: border-box;text-align: center;}#sk-container-id-3 label.sk-toggleable__label-arrow:before {content: \"▸\";float: left;margin-right: 0.25em;color: #696969;}#sk-container-id-3 label.sk-toggleable__label-arrow:hover:before {color: black;}#sk-container-id-3 div.sk-estimator:hover label.sk-toggleable__label-arrow:before {color: black;}#sk-container-id-3 div.sk-toggleable__content {max-height: 0;max-width: 0;overflow: hidden;text-align: left;background-color: #f0f8ff;}#sk-container-id-3 div.sk-toggleable__content pre {margin: 0.2em;color: black;border-radius: 0.25em;background-color: #f0f8ff;}#sk-container-id-3 input.sk-toggleable__control:checked~div.sk-toggleable__content {max-height: 200px;max-width: 100%;overflow: auto;}#sk-container-id-3 input.sk-toggleable__control:checked~label.sk-toggleable__label-arrow:before {content: \"▾\";}#sk-container-id-3 div.sk-estimator input.sk-toggleable__control:checked~label.sk-toggleable__label {background-color: #d4ebff;}#sk-container-id-3 div.sk-label input.sk-toggleable__control:checked~label.sk-toggleable__label {background-color: #d4ebff;}#sk-container-id-3 input.sk-hidden--visually {border: 0;clip: rect(1px 1px 1px 1px);clip: rect(1px, 1px, 1px, 1px);height: 1px;margin: -1px;overflow: hidden;padding: 0;position: absolute;width: 1px;}#sk-container-id-3 div.sk-estimator {font-family: monospace;background-color: #f0f8ff;border: 1px dotted black;border-radius: 0.25em;box-sizing: border-box;margin-bottom: 0.5em;}#sk-container-id-3 div.sk-estimator:hover {background-color: #d4ebff;}#sk-container-id-3 div.sk-parallel-item::after {content: \"\";width: 100%;border-bottom: 1px solid gray;flex-grow: 1;}#sk-container-id-3 div.sk-label:hover label.sk-toggleable__label {background-color: #d4ebff;}#sk-container-id-3 div.sk-serial::before {content: \"\";position: absolute;border-left: 1px solid gray;box-sizing: border-box;top: 0;bottom: 0;left: 50%;z-index: 0;}#sk-container-id-3 div.sk-serial {display: flex;flex-direction: column;align-items: center;background-color: white;padding-right: 0.2em;padding-left: 0.2em;position: relative;}#sk-container-id-3 div.sk-item {position: relative;z-index: 1;}#sk-container-id-3 div.sk-parallel {display: flex;align-items: stretch;justify-content: center;background-color: white;position: relative;}#sk-container-id-3 div.sk-item::before, #sk-container-id-3 div.sk-parallel-item::before {content: \"\";position: absolute;border-left: 1px solid gray;box-sizing: border-box;top: 0;bottom: 0;left: 50%;z-index: -1;}#sk-container-id-3 div.sk-parallel-item {display: flex;flex-direction: column;z-index: 1;position: relative;background-color: white;}#sk-container-id-3 div.sk-parallel-item:first-child::after {align-self: flex-end;width: 50%;}#sk-container-id-3 div.sk-parallel-item:last-child::after {align-self: flex-start;width: 50%;}#sk-container-id-3 div.sk-parallel-item:only-child::after {width: 0;}#sk-container-id-3 div.sk-dashed-wrapped {border: 1px dashed gray;margin: 0 0.4em 0.5em 0.4em;box-sizing: border-box;padding-bottom: 0.4em;background-color: white;}#sk-container-id-3 div.sk-label label {font-family: monospace;font-weight: bold;display: inline-block;line-height: 1.2em;}#sk-container-id-3 div.sk-label-container {text-align: center;}#sk-container-id-3 div.sk-container {/* jupyter's `normalize.less` sets `[hidden] { display: none; }` but bootstrap.min.css set `[hidden] { display: none !important; }` so we also need the `!important` here to be able to override the default hidden behavior on the sphinx rendered scikit-learn.org. See: https://github.com/scikit-learn/scikit-learn/issues/21755 */display: inline-block !important;position: relative;}#sk-container-id-3 div.sk-text-repr-fallback {display: none;}</style><div id=\"sk-container-id-3\" class=\"sk-top-container\"><div class=\"sk-text-repr-fallback\"><pre>RandomForestClassifier(random_state=666)</pre><b>In a Jupyter environment, please rerun this cell to show the HTML representation or trust the notebook. <br />On GitHub, the HTML representation is unable to render, please try loading this page with nbviewer.org.</b></div><div class=\"sk-container\" hidden><div class=\"sk-item\"><div class=\"sk-estimator sk-toggleable\"><input class=\"sk-toggleable__control sk-hidden--visually\" id=\"sk-estimator-id-3\" type=\"checkbox\" checked><label for=\"sk-estimator-id-3\" class=\"sk-toggleable__label sk-toggleable__label-arrow\">RandomForestClassifier</label><div class=\"sk-toggleable__content\"><pre>RandomForestClassifier(random_state=666)</pre></div></div></div></div></div>"
      ],
      "text/plain": [
       "RandomForestClassifier(random_state=666)"
      ]
     },
     "execution_count": 77,
     "metadata": {},
     "output_type": "execute_result"
    }
   ],
   "source": [
    "from sklearn.ensemble import RandomForestClassifier\n",
    "rfc = RandomForestClassifier(n_estimators=100,random_state=666)\n",
    "\n",
    "rfc.fit(X_train,y_train)"
   ]
  },
  {
   "cell_type": "code",
   "execution_count": 78,
   "metadata": {},
   "outputs": [
    {
     "name": "stdout",
     "output_type": "stream",
     "text": [
      "Accuracy:  0.7204322593556134\n",
      "Precision:  0.7305529024726732\n",
      "Recall:  0.6930433907178093\n",
      "F1:  0.7113039884273611\n",
      "Confusion Matrix: \n",
      " [[7516 2539]\n",
      " [3049 6884]]\n",
      "Classification Report: \n",
      "               precision    recall  f1-score   support\n",
      "\n",
      "           0       0.71      0.75      0.73     10055\n",
      "           1       0.73      0.69      0.71      9933\n",
      "\n",
      "    accuracy                           0.72     19988\n",
      "   macro avg       0.72      0.72      0.72     19988\n",
      "weighted avg       0.72      0.72      0.72     19988\n",
      "\n"
     ]
    }
   ],
   "source": [
    "from sklearn.metrics import accuracy_score, f1_score, precision_score, recall_score, confusion_matrix, classification_report\n",
    "\n",
    "y_pred = rfc.predict(X_test)\n",
    "\n",
    "print('Accuracy: ', accuracy_score(y_test,y_pred))\n",
    "print('Precision: ', precision_score(y_test,y_pred))\n",
    "print('Recall: ', recall_score(y_test,y_pred))\n",
    "print('F1: ', f1_score(y_test,y_pred))\n",
    "print('Confusion Matrix: \\n', confusion_matrix(y_test,y_pred))\n",
    "print('Classification Report: \\n', classification_report(y_test,y_pred))"
   ]
  },
  {
   "cell_type": "code",
   "execution_count": 79,
   "metadata": {},
   "outputs": [
    {
     "name": "stdout",
     "output_type": "stream",
     "text": [
      "Mean Decrease Accuracy[0.0213927  0.18907764 0.13354063 0.02974843 0.03055234 0.18607601\n",
      " 0.13208764 0.2568873  0.02063731]\n",
      "\n",
      "Mean Decrease GINI= [0.01069634 0.09453868 0.06677022 0.0148742  0.01527615 0.09303787\n",
      " 0.06604372 0.12844347 0.01031864]\n"
     ]
    }
   ],
   "source": [
    "mean_decrease_accuracy = rfc.feature_importances_\n",
    "print(f\"Mean Decrease Accuracy{ mean_decrease_accuracy}\")\n",
    "\n",
    "gini_importance = rfc.feature_importances_ * rfc.estimators_[0].tree_.impurity[0]\n",
    "print(f\"\\nMean Decrease GINI= {gini_importance}\")"
   ]
  },
  {
   "cell_type": "code",
   "execution_count": 80,
   "metadata": {},
   "outputs": [
    {
     "data": {
      "image/png": "[encoded data removed]",
      "text/plain": [
       "<Figure size 1000x600 with 1 Axes>"
      ]
     },
     "metadata": {},
     "output_type": "display_data"
    },
    {
     "data": {
      "image/png": "[encoded data removed]",
      "text/plain": [
       "<Figure size 1000x600 with 1 Axes>"
      ]
     },
     "metadata": {},
     "output_type": "display_data"
    }
   ],
   "source": [
    "import matplotlib.pyplot as plt\n",
    "\n",
    "plt.figure(figsize=(10, 6))\n",
    "plt.barh(range(len(mean_decrease_accuracy)), mean_decrease_accuracy, align='center')\n",
    "plt.yticks(range(len(mean_decrease_accuracy)), X.columns)\n",
    "plt.xlabel('Mean Decrease Accuracy')\n",
    "plt.title('Feature Importance - Mean Decrease Accuracy')\n",
    "plt.show()\n",
    "plt.figure(figsize=(10, 6))\n",
    "plt.barh(range(len(gini_importance)), gini_importance, align='center')\n",
    "plt.yticks(range(len(gini_importance)), X.columns)\n",
    "plt.xlabel('Mean Decrease GINI')\n",
    "plt.title('Feature Importance - Mean Decrease GINI')\n",
    "plt.show()"
   ]
  },
  {
   "cell_type": "code",
   "execution_count": 81,
   "metadata": {},
   "outputs": [
    {
     "name": "stdout",
     "output_type": "stream",
     "text": [
      "Avg_Account_Balance    0.256887\n",
      "Age                    0.189078\n",
      "Vintage                0.186076\n",
      "Region_Code            0.133541\n",
      "Credit_Product         0.132088\n",
      "Channel_Code           0.030552\n",
      "Occupation             0.029748\n",
      "Gender                 0.021393\n",
      "Is_Active              0.020637\n",
      "dtype: float64\n"
     ]
    }
   ],
   "source": [
    "feature_scores = pd.Series(rfc.feature_importances_, index=X_train.columns).sort_values(ascending=False)\n",
    "\n",
    "print(feature_scores)"
   ]
  },
  {
   "cell_type": "markdown",
   "metadata": {},
   "source": [
    "### Based on this, we consider dropping two features: Gender & Is_Active"
   ]
  },
  {
   "cell_type": "code",
   "execution_count": 82,
   "metadata": {},
   "outputs": [
    {
     "name": "stdout",
     "output_type": "stream",
     "text": [
      "Accuracy:  0.7204322593556134\n",
      "Precision:  0.7305529024726732\n",
      "Recall:  0.6930433907178093\n",
      "F1:  0.7113039884273611\n",
      "Confusion Matrix: \n",
      " [[7516 2539]\n",
      " [3049 6884]]\n",
      "Classification Report: \n",
      "               precision    recall  f1-score   support\n",
      "\n",
      "           0       0.71      0.75      0.73     10055\n",
      "           1       0.73      0.69      0.71      9933\n",
      "\n",
      "    accuracy                           0.72     19988\n",
      "   macro avg       0.72      0.72      0.72     19988\n",
      "weighted avg       0.72      0.72      0.72     19988\n",
      "\n"
     ]
    }
   ],
   "source": [
    "X_short = df[['Age', 'Region_Code', 'Occupation', 'Channel_Code', 'Vintage', 'Credit_Product', 'Avg_Account_Balance']]\n",
    "\n",
    "\n",
    "X_bal, y_bal = rus.fit_resample(X_short, y)\n",
    "X_train_short, X_test_short, y_train, y_test = train_test_split(X_bal, y_bal, test_size=0.3, random_state=666)\n",
    "\n",
    "rfc.fit(X_train_short,y_train)\n",
    "\n",
    "y_pred_short = rfc.predict(X_test_short)\n",
    "print('Accuracy: ', accuracy_score(y_test,y_pred))\n",
    "print('Precision: ', precision_score(y_test,y_pred))\n",
    "print('Recall: ', recall_score(y_test,y_pred))\n",
    "print('F1: ', f1_score(y_test,y_pred))\n",
    "print('Confusion Matrix: \\n', confusion_matrix(y_test,y_pred))\n",
    "print('Classification Report: \\n', classification_report(y_test,y_pred))"
   ]
  },
  {
   "cell_type": "markdown",
   "metadata": {},
   "source": [
    "#### Since there is no significant change we keep the features"
   ]
  },
  {
   "cell_type": "markdown",
   "metadata": {},
   "source": [
    "# KNN"
   ]
  },
  {
   "cell_type": "code",
   "execution_count": 116,
   "metadata": {},
   "outputs": [],
   "source": [
    "from sklearn.model_selection import cross_val_score\n",
    "from sklearn.neighbors import KNeighborsClassifier\n",
    "import numpy as np\n",
    "import matplotlib.pyplot as plt\n",
    "from sklearn.preprocessing import StandardScaler\n",
    "\n",
    "k_values = range(1, 21)\n",
    "X_train, X_test, y_train, y_test = train_test_split(X_balanced, y_balanced, test_size=0.3, random_state=666)\n",
    "\n",
    "scaler = StandardScaler()\n",
    "X_train_scaled = scaler.fit_transform(X_train)\n",
    "X_test_scaled = scaler.transform(X_test)\n",
    "\n",
    "accuracies = []\n",
    "for k in k_values:\n",
    "    knn = KNeighborsClassifier(n_neighbors=k)\n",
    "    scores = cross_val_score(knn, X_train_scaled, y_train, cv=5)\n",
    "    accuracies.append(np.mean(scores))\n"
   ]
  },
  {
   "cell_type": "code",
   "execution_count": 113,
   "metadata": {},
   "outputs": [
    {
     "name": "stdout",
     "output_type": "stream",
     "text": [
      "Accuracy:  0.7117270362217331\n",
      "Precision:  0.7182626896912612\n",
      "Recall:  0.6909292258129467\n",
      "F1:  0.7043308702791461\n",
      "Confusion Matrix: \n",
      " [[7363 2692]\n",
      " [3070 6863]]\n",
      "Classification Report: \n",
      "               precision    recall  f1-score   support\n",
      "\n",
      "           0       0.71      0.73      0.72     10055\n",
      "           1       0.72      0.69      0.70      9933\n",
      "\n",
      "    accuracy                           0.71     19988\n",
      "   macro avg       0.71      0.71      0.71     19988\n",
      "weighted avg       0.71      0.71      0.71     19988\n",
      "\n"
     ]
    }
   ],
   "source": [
    "knn = KNeighborsClassifier(n_neighbors=7)\n",
    "X_train, X_test, y_train, y_test = train_test_split(X_balanced, y_balanced, test_size=0.3, random_state=666)\n",
    "scaler = StandardScaler()\n",
    "X_train_scaled = scaler.fit_transform(X_train)\n",
    "X_test_scaled = scaler.transform(X_test)\n",
    "knn.fit(X_train_scaled, y_train)\n",
    "y_pred = knn.predict(X_test_scaled)\n",
    "\n",
    "print('Accuracy: ', accuracy_score(y_test,y_pred))\n",
    "print('Precision: ', precision_score(y_test,y_pred))\n",
    "print('Recall: ', recall_score(y_test,y_pred))\n",
    "print('F1: ', f1_score(y_test,y_pred))\n",
    "print('Confusion Matrix: \\n', confusion_matrix(y_test,y_pred))\n",
    "print('Classification Report: \\n', classification_report(y_test,y_pred))"
   ]
  },
  {
   "cell_type": "markdown",
   "metadata": {},
   "source": [
    "# Decision Tree"
   ]
  },
  {
   "cell_type": "code",
   "execution_count": 85,
   "metadata": {},
   "outputs": [
    {
     "name": "stdout",
     "output_type": "stream",
     "text": [
      "Optimal Parameters:  {'criterion': 'entropy', 'max_depth': 5, 'min_samples_leaf': 1, 'min_samples_split': 2}\n",
      "Accuracy:  0.7378427056233741\n",
      "Precision:  0.7335058214747736\n",
      "Recall:  0.7420718816067653\n",
      "F1:  0.7377639875888299\n",
      "Confusion Matrix: \n",
      " [[7377 2678]\n",
      " [2562 7371]]\n",
      "Classification Report: \n",
      "               precision    recall  f1-score   support\n",
      "\n",
      "           0       0.74      0.73      0.74     10055\n",
      "           1       0.73      0.74      0.74      9933\n",
      "\n",
      "    accuracy                           0.74     19988\n",
      "   macro avg       0.74      0.74      0.74     19988\n",
      "weighted avg       0.74      0.74      0.74     19988\n",
      "\n"
     ]
    }
   ],
   "source": [
    "from sklearn.tree import DecisionTreeClassifier\n",
    "from sklearn.model_selection import GridSearchCV\n",
    "\n",
    "parameters = {\n",
    "    'criterion': ['gini', 'entropy'],\n",
    "    'max_depth': [None, 5, 10, 15],\n",
    "    'min_samples_split': [2, 5, 10],\n",
    "    'min_samples_leaf': [1, 2, 4]\n",
    "}\n",
    "dtc = DecisionTreeClassifier(random_state=666)\n",
    "\n",
    "grid_search = GridSearchCV(dtc, parameters, cv=5, scoring='accuracy', n_jobs=-1)\n",
    "grid_search.fit(X_train, y_train)\n",
    "print(\"Optimal Parameters: \", grid_search.best_params_)\n",
    "\n",
    "opt = grid_search.best_estimator_\n",
    "opt.fit(X_train, y_train)\n",
    "y_pred = opt.predict(X_test)\n",
    "\n",
    "print('Accuracy: ', accuracy_score(y_test,y_pred))\n",
    "print('Precision: ', precision_score(y_test,y_pred))\n",
    "print('Recall: ', recall_score(y_test,y_pred))\n",
    "print('F1: ', f1_score(y_test,y_pred))\n",
    "print('Confusion Matrix: \\n', confusion_matrix(y_test,y_pred))\n",
    "print('Classification Report: \\n', classification_report(y_test,y_pred))"
   ]
  },
  {
   "cell_type": "markdown",
   "metadata": {},
   "source": [
    "# Logistic Regression"
   ]
  },
  {
   "cell_type": "code",
   "execution_count": 86,
   "metadata": {},
   "outputs": [
    {
     "name": "stderr",
     "output_type": "stream",
     "text": [
      "/Users/shudeo/miniconda/envs/kddm/lib/python3.8/site-packages/sklearn/linear_model/_sag.py:350: ConvergenceWarning: The max_iter was reached which means the coef_ did not converge\n",
      "  warnings.warn(\n",
      "/Users/shudeo/miniconda/envs/kddm/lib/python3.8/site-packages/sklearn/linear_model/_sag.py:350: ConvergenceWarning: The max_iter was reached which means the coef_ did not converge\n",
      "  warnings.warn(\n",
      "/Users/shudeo/miniconda/envs/kddm/lib/python3.8/site-packages/sklearn/linear_model/_sag.py:350: ConvergenceWarning: The max_iter was reached which means the coef_ did not converge\n",
      "  warnings.warn(\n",
      "/Users/shudeo/miniconda/envs/kddm/lib/python3.8/site-packages/sklearn/linear_model/_sag.py:350: ConvergenceWarning: The max_iter was reached which means the coef_ did not converge\n",
      "  warnings.warn(\n",
      "/Users/shudeo/miniconda/envs/kddm/lib/python3.8/site-packages/sklearn/linear_model/_sag.py:350: ConvergenceWarning: The max_iter was reached which means the coef_ did not converge\n",
      "  warnings.warn(\n",
      "/Users/shudeo/miniconda/envs/kddm/lib/python3.8/site-packages/sklearn/linear_model/_sag.py:350: ConvergenceWarning: The max_iter was reached which means the coef_ did not converge\n",
      "  warnings.warn(\n",
      "/Users/shudeo/miniconda/envs/kddm/lib/python3.8/site-packages/sklearn/linear_model/_sag.py:350: ConvergenceWarning: The max_iter was reached which means the coef_ did not converge\n",
      "  warnings.warn(\n",
      "/Users/shudeo/miniconda/envs/kddm/lib/python3.8/site-packages/sklearn/linear_model/_sag.py:350: ConvergenceWarning: The max_iter was reached which means the coef_ did not converge\n",
      "  warnings.warn(\n",
      "/Users/shudeo/miniconda/envs/kddm/lib/python3.8/site-packages/sklearn/linear_model/_sag.py:350: ConvergenceWarning: The max_iter was reached which means the coef_ did not converge\n",
      "  warnings.warn(\n",
      "/Users/shudeo/miniconda/envs/kddm/lib/python3.8/site-packages/sklearn/linear_model/_sag.py:350: ConvergenceWarning: The max_iter was reached which means the coef_ did not converge\n",
      "  warnings.warn(\n",
      "/Users/shudeo/miniconda/envs/kddm/lib/python3.8/site-packages/sklearn/linear_model/_sag.py:350: ConvergenceWarning: The max_iter was reached which means the coef_ did not converge\n",
      "  warnings.warn(\n",
      "/Users/shudeo/miniconda/envs/kddm/lib/python3.8/site-packages/sklearn/linear_model/_sag.py:350: ConvergenceWarning: The max_iter was reached which means the coef_ did not converge\n",
      "  warnings.warn(\n",
      "/Users/shudeo/miniconda/envs/kddm/lib/python3.8/site-packages/sklearn/linear_model/_sag.py:350: ConvergenceWarning: The max_iter was reached which means the coef_ did not converge\n",
      "  warnings.warn(\n",
      "/Users/shudeo/miniconda/envs/kddm/lib/python3.8/site-packages/sklearn/linear_model/_sag.py:350: ConvergenceWarning: The max_iter was reached which means the coef_ did not converge\n",
      "  warnings.warn(\n",
      "/Users/shudeo/miniconda/envs/kddm/lib/python3.8/site-packages/sklearn/linear_model/_sag.py:350: ConvergenceWarning: The max_iter was reached which means the coef_ did not converge\n",
      "  warnings.warn(\n",
      "/Users/shudeo/miniconda/envs/kddm/lib/python3.8/site-packages/sklearn/linear_model/_sag.py:350: ConvergenceWarning: The max_iter was reached which means the coef_ did not converge\n",
      "  warnings.warn(\n",
      "/Users/shudeo/miniconda/envs/kddm/lib/python3.8/site-packages/sklearn/linear_model/_sag.py:350: ConvergenceWarning: The max_iter was reached which means the coef_ did not converge\n",
      "  warnings.warn(\n",
      "/Users/shudeo/miniconda/envs/kddm/lib/python3.8/site-packages/sklearn/linear_model/_sag.py:350: ConvergenceWarning: The max_iter was reached which means the coef_ did not converge\n",
      "  warnings.warn(\n",
      "/Users/shudeo/miniconda/envs/kddm/lib/python3.8/site-packages/sklearn/linear_model/_sag.py:350: ConvergenceWarning: The max_iter was reached which means the coef_ did not converge\n",
      "  warnings.warn(\n",
      "/Users/shudeo/miniconda/envs/kddm/lib/python3.8/site-packages/sklearn/linear_model/_sag.py:350: ConvergenceWarning: The max_iter was reached which means the coef_ did not converge\n",
      "  warnings.warn(\n",
      "/Users/shudeo/miniconda/envs/kddm/lib/python3.8/site-packages/sklearn/linear_model/_sag.py:350: ConvergenceWarning: The max_iter was reached which means the coef_ did not converge\n",
      "  warnings.warn(\n",
      "/Users/shudeo/miniconda/envs/kddm/lib/python3.8/site-packages/sklearn/linear_model/_sag.py:350: ConvergenceWarning: The max_iter was reached which means the coef_ did not converge\n",
      "  warnings.warn(\n",
      "/Users/shudeo/miniconda/envs/kddm/lib/python3.8/site-packages/sklearn/linear_model/_sag.py:350: ConvergenceWarning: The max_iter was reached which means the coef_ did not converge\n",
      "  warnings.warn(\n",
      "/Users/shudeo/miniconda/envs/kddm/lib/python3.8/site-packages/sklearn/linear_model/_sag.py:350: ConvergenceWarning: The max_iter was reached which means the coef_ did not converge\n",
      "  warnings.warn(\n",
      "/Users/shudeo/miniconda/envs/kddm/lib/python3.8/site-packages/sklearn/linear_model/_sag.py:350: ConvergenceWarning: The max_iter was reached which means the coef_ did not converge\n",
      "  warnings.warn(\n",
      "/Users/shudeo/miniconda/envs/kddm/lib/python3.8/site-packages/sklearn/linear_model/_sag.py:350: ConvergenceWarning: The max_iter was reached which means the coef_ did not converge\n",
      "  warnings.warn(\n",
      "/Users/shudeo/miniconda/envs/kddm/lib/python3.8/site-packages/sklearn/linear_model/_sag.py:350: ConvergenceWarning: The max_iter was reached which means the coef_ did not converge\n",
      "  warnings.warn(\n",
      "/Users/shudeo/miniconda/envs/kddm/lib/python3.8/site-packages/sklearn/linear_model/_sag.py:350: ConvergenceWarning: The max_iter was reached which means the coef_ did not converge\n",
      "  warnings.warn(\n",
      "/Users/shudeo/miniconda/envs/kddm/lib/python3.8/site-packages/sklearn/linear_model/_sag.py:350: ConvergenceWarning: The max_iter was reached which means the coef_ did not converge\n",
      "  warnings.warn(\n",
      "/Users/shudeo/miniconda/envs/kddm/lib/python3.8/site-packages/sklearn/linear_model/_sag.py:350: ConvergenceWarning: The max_iter was reached which means the coef_ did not converge\n",
      "  warnings.warn(\n",
      "/Users/shudeo/miniconda/envs/kddm/lib/python3.8/site-packages/sklearn/linear_model/_sag.py:350: ConvergenceWarning: The max_iter was reached which means the coef_ did not converge\n",
      "  warnings.warn(\n",
      "/Users/shudeo/miniconda/envs/kddm/lib/python3.8/site-packages/sklearn/linear_model/_sag.py:350: ConvergenceWarning: The max_iter was reached which means the coef_ did not converge\n",
      "  warnings.warn(\n",
      "/Users/shudeo/miniconda/envs/kddm/lib/python3.8/site-packages/sklearn/linear_model/_sag.py:350: ConvergenceWarning: The max_iter was reached which means the coef_ did not converge\n",
      "  warnings.warn(\n",
      "/Users/shudeo/miniconda/envs/kddm/lib/python3.8/site-packages/sklearn/linear_model/_sag.py:350: ConvergenceWarning: The max_iter was reached which means the coef_ did not converge\n",
      "  warnings.warn(\n",
      "/Users/shudeo/miniconda/envs/kddm/lib/python3.8/site-packages/sklearn/linear_model/_sag.py:350: ConvergenceWarning: The max_iter was reached which means the coef_ did not converge\n",
      "  warnings.warn(\n",
      "/Users/shudeo/miniconda/envs/kddm/lib/python3.8/site-packages/sklearn/linear_model/_sag.py:350: ConvergenceWarning: The max_iter was reached which means the coef_ did not converge\n",
      "  warnings.warn(\n",
      "/Users/shudeo/miniconda/envs/kddm/lib/python3.8/site-packages/sklearn/linear_model/_sag.py:350: ConvergenceWarning: The max_iter was reached which means the coef_ did not converge\n",
      "  warnings.warn(\n",
      "/Users/shudeo/miniconda/envs/kddm/lib/python3.8/site-packages/sklearn/linear_model/_sag.py:350: ConvergenceWarning: The max_iter was reached which means the coef_ did not converge\n",
      "  warnings.warn(\n",
      "/Users/shudeo/miniconda/envs/kddm/lib/python3.8/site-packages/sklearn/linear_model/_sag.py:350: ConvergenceWarning: The max_iter was reached which means the coef_ did not converge\n",
      "  warnings.warn(\n",
      "/Users/shudeo/miniconda/envs/kddm/lib/python3.8/site-packages/sklearn/linear_model/_sag.py:350: ConvergenceWarning: The max_iter was reached which means the coef_ did not converge\n",
      "  warnings.warn(\n",
      "/Users/shudeo/miniconda/envs/kddm/lib/python3.8/site-packages/sklearn/linear_model/_sag.py:350: ConvergenceWarning: The max_iter was reached which means the coef_ did not converge\n",
      "  warnings.warn(\n",
      "/Users/shudeo/miniconda/envs/kddm/lib/python3.8/site-packages/sklearn/linear_model/_sag.py:350: ConvergenceWarning: The max_iter was reached which means the coef_ did not converge\n",
      "  warnings.warn(\n",
      "/Users/shudeo/miniconda/envs/kddm/lib/python3.8/site-packages/sklearn/linear_model/_sag.py:350: ConvergenceWarning: The max_iter was reached which means the coef_ did not converge\n",
      "  warnings.warn(\n",
      "/Users/shudeo/miniconda/envs/kddm/lib/python3.8/site-packages/sklearn/linear_model/_sag.py:350: ConvergenceWarning: The max_iter was reached which means the coef_ did not converge\n",
      "  warnings.warn(\n",
      "/Users/shudeo/miniconda/envs/kddm/lib/python3.8/site-packages/sklearn/linear_model/_sag.py:350: ConvergenceWarning: The max_iter was reached which means the coef_ did not converge\n",
      "  warnings.warn(\n",
      "/Users/shudeo/miniconda/envs/kddm/lib/python3.8/site-packages/sklearn/linear_model/_sag.py:350: ConvergenceWarning: The max_iter was reached which means the coef_ did not converge\n",
      "  warnings.warn(\n",
      "/Users/shudeo/miniconda/envs/kddm/lib/python3.8/site-packages/sklearn/linear_model/_sag.py:350: ConvergenceWarning: The max_iter was reached which means the coef_ did not converge\n",
      "  warnings.warn(\n",
      "/Users/shudeo/miniconda/envs/kddm/lib/python3.8/site-packages/sklearn/linear_model/_sag.py:350: ConvergenceWarning: The max_iter was reached which means the coef_ did not converge\n",
      "  warnings.warn(\n",
      "/Users/shudeo/miniconda/envs/kddm/lib/python3.8/site-packages/sklearn/linear_model/_sag.py:350: ConvergenceWarning: The max_iter was reached which means the coef_ did not converge\n",
      "  warnings.warn(\n",
      "/Users/shudeo/miniconda/envs/kddm/lib/python3.8/site-packages/sklearn/linear_model/_sag.py:350: ConvergenceWarning: The max_iter was reached which means the coef_ did not converge\n",
      "  warnings.warn(\n",
      "/Users/shudeo/miniconda/envs/kddm/lib/python3.8/site-packages/sklearn/linear_model/_sag.py:350: ConvergenceWarning: The max_iter was reached which means the coef_ did not converge\n",
      "  warnings.warn(\n",
      "/Users/shudeo/miniconda/envs/kddm/lib/python3.8/site-packages/sklearn/linear_model/_sag.py:350: ConvergenceWarning: The max_iter was reached which means the coef_ did not converge\n",
      "  warnings.warn(\n",
      "/Users/shudeo/miniconda/envs/kddm/lib/python3.8/site-packages/sklearn/linear_model/_sag.py:350: ConvergenceWarning: The max_iter was reached which means the coef_ did not converge\n",
      "  warnings.warn(\n",
      "/Users/shudeo/miniconda/envs/kddm/lib/python3.8/site-packages/sklearn/linear_model/_sag.py:350: ConvergenceWarning: The max_iter was reached which means the coef_ did not converge\n",
      "  warnings.warn(\n",
      "/Users/shudeo/miniconda/envs/kddm/lib/python3.8/site-packages/sklearn/linear_model/_sag.py:350: ConvergenceWarning: The max_iter was reached which means the coef_ did not converge\n",
      "  warnings.warn(\n",
      "/Users/shudeo/miniconda/envs/kddm/lib/python3.8/site-packages/sklearn/linear_model/_sag.py:350: ConvergenceWarning: The max_iter was reached which means the coef_ did not converge\n",
      "  warnings.warn(\n",
      "/Users/shudeo/miniconda/envs/kddm/lib/python3.8/site-packages/sklearn/linear_model/_sag.py:350: ConvergenceWarning: The max_iter was reached which means the coef_ did not converge\n",
      "  warnings.warn(\n",
      "/Users/shudeo/miniconda/envs/kddm/lib/python3.8/site-packages/sklearn/linear_model/_sag.py:350: ConvergenceWarning: The max_iter was reached which means the coef_ did not converge\n",
      "  warnings.warn(\n",
      "/Users/shudeo/miniconda/envs/kddm/lib/python3.8/site-packages/sklearn/linear_model/_sag.py:350: ConvergenceWarning: The max_iter was reached which means the coef_ did not converge\n",
      "  warnings.warn(\n"
     ]
    },
    {
     "name": "stdout",
     "output_type": "stream",
     "text": [
      "Optimal Parameters:  {'C': 1, 'penalty': 'l1', 'solver': 'liblinear'}\n",
      "Accuracy:  0.6987692615569342\n",
      "Precision:  0.6906432748538012\n",
      "Recall:  0.7133796436122017\n",
      "F1:  0.7018273659188828\n",
      "Confusion Matrix: \n",
      " [[6881 3174]\n",
      " [2847 7086]]\n",
      "Classification Report: \n",
      "               precision    recall  f1-score   support\n",
      "\n",
      "           0       0.71      0.68      0.70     10055\n",
      "           1       0.69      0.71      0.70      9933\n",
      "\n",
      "    accuracy                           0.70     19988\n",
      "   macro avg       0.70      0.70      0.70     19988\n",
      "weighted avg       0.70      0.70      0.70     19988\n",
      "\n"
     ]
    },
    {
     "name": "stderr",
     "output_type": "stream",
     "text": [
      "/Users/shudeo/miniconda/envs/kddm/lib/python3.8/site-packages/sklearn/linear_model/_sag.py:350: ConvergenceWarning: The max_iter was reached which means the coef_ did not converge\n",
      "  warnings.warn(\n"
     ]
    }
   ],
   "source": [
    "from sklearn.linear_model import LogisticRegression\n",
    "\n",
    "lr = LogisticRegression(random_state=666)\n",
    "\n",
    "parameters = {\n",
    "    'penalty': ['l1', 'l2'],  # Regularization norm\n",
    "    'C': [0.001, 0.01, 0.1, 1, 10, 100],  # Strength of regularization\n",
    "    'solver': ['liblinear', 'saga']\n",
    "}\n",
    "\n",
    "grid_search = GridSearchCV(lr, parameters, cv=5, scoring='accuracy', n_jobs=-1)\n",
    "grid_search.fit(X_train, y_train)\n",
    "print(\"Optimal Parameters: \", grid_search.best_params_)\n",
    "\n",
    "opt = grid_search.best_estimator_\n",
    "opt.fit(X_train, y_train)\n",
    "y_pred = opt.predict(X_test)\n",
    "\n",
    "print('Accuracy: ', accuracy_score(y_test,y_pred))\n",
    "print('Precision: ', precision_score(y_test,y_pred))\n",
    "print('Recall: ', recall_score(y_test,y_pred))\n",
    "print('F1: ', f1_score(y_test,y_pred))\n",
    "print('Confusion Matrix: \\n', confusion_matrix(y_test,y_pred))\n",
    "print('Classification Report: \\n', classification_report(y_test,y_pred))"
   ]
  },
  {
   "cell_type": "markdown",
   "metadata": {},
   "source": [
    "# Naive Bayes"
   ]
  },
  {
   "cell_type": "code",
   "execution_count": 118,
   "metadata": {},
   "outputs": [
    {
     "name": "stdout",
     "output_type": "stream",
     "text": [
      "Optimal Parameters:  {'var_smoothing': 1e-09}\n",
      "Accuracy:  0.709925955573344\n",
      "Precision:  0.7029945999018163\n",
      "Recall:  0.7208295580388604\n",
      "F1:  0.7118003777711501\n",
      "Confusion Matrix: \n",
      " [[7030 3025]\n",
      " [2773 7160]]\n",
      "Classification Report: \n",
      "               precision    recall  f1-score   support\n",
      "\n",
      "           0       0.72      0.70      0.71     10055\n",
      "           1       0.70      0.72      0.71      9933\n",
      "\n",
      "    accuracy                           0.71     19988\n",
      "   macro avg       0.71      0.71      0.71     19988\n",
      "weighted avg       0.71      0.71      0.71     19988\n",
      "\n"
     ]
    }
   ],
   "source": [
    "from sklearn.naive_bayes import GaussianNB\n",
    "\n",
    "gnb = GaussianNB()\n",
    "\n",
    "parameters = {\n",
    "    'var_smoothing': [1e-9, 1e-8, 1e-7, 1e-6, 1e-5]  # Smoothing parameter\n",
    "}\n",
    "\n",
    "X_train, X_test, y_train, y_test = train_test_split(X_balanced, y_balanced, test_size=0.3, random_state=666)\n",
    "grid_search = GridSearchCV(gnb, parameters, cv=5, scoring='accuracy', n_jobs=-1)\n",
    "\n",
    "grid_search.fit(X_train, y_train)\n",
    "scaler = StandardScaler()\n",
    "X_train_scaled = scaler.fit_transform(X_train)\n",
    "X_test_scaled = scaler.transform(X_test)\n",
    "\n",
    "print(\"Optimal Parameters: \", grid_search.best_params_)\n",
    "\n",
    "opt = grid_search.best_estimator_\n",
    "opt.fit(X_train_scaled, y_train)\n",
    "y_pred = opt.predict(X_test_scaled)\n",
    "\n",
    "print('Accuracy: ', accuracy_score(y_test,y_pred))\n",
    "print('Precision: ', precision_score(y_test,y_pred))\n",
    "print('Recall: ', recall_score(y_test,y_pred))\n",
    "print('F1: ', f1_score(y_test,y_pred))\n",
    "print('Confusion Matrix: \\n', confusion_matrix(y_test,y_pred))\n",
    "print('Classification Report: \\n', classification_report(y_test,y_pred))\n"
   ]
  },
  {
   "cell_type": "markdown",
   "metadata": {},
   "source": [
    "# XGBoost"
   ]
  },
  {
   "cell_type": "code",
   "execution_count": 101,
   "metadata": {},
   "outputs": [
    {
     "name": "stdout",
     "output_type": "stream",
     "text": [
      "Optimal Parameters:  {'colsample_bytree': 0.8, 'learning_rate': 0.2, 'max_depth': 5, 'n_estimators': 50, 'subsample': 0.8}\n",
      "Accuracy:  0.7415449269561737\n",
      "Precision:  0.7521421770866391\n",
      "Recall:  0.7157958320749018\n",
      "F1:  0.7335190343546889\n",
      "Confusion Matrix: \n",
      " [[7712 2343]\n",
      " [2823 7110]]\n",
      "Classification Report: \n",
      "               precision    recall  f1-score   support\n",
      "\n",
      "           0       0.73      0.77      0.75     10055\n",
      "           1       0.75      0.72      0.73      9933\n",
      "\n",
      "    accuracy                           0.74     19988\n",
      "   macro avg       0.74      0.74      0.74     19988\n",
      "weighted avg       0.74      0.74      0.74     19988\n",
      "\n"
     ]
    }
   ],
   "source": [
    "from xgboost import XGBClassifier\n",
    "\n",
    "xgb = XGBClassifier(random_state=666)\n",
    "X_train, X_test, y_train, y_test = train_test_split(X_balanced, y_balanced, test_size=0.3, random_state=666)\n",
    "\n",
    "parameters = {\n",
    "    'learning_rate': [0.01, 0.1, 0.2],    # Learning Rate\n",
    "    'n_estimators': [50, 100, 200],       # Number of rounds\n",
    "    'max_depth': [3, 5, 7],               # Maximum depth\n",
    "    'subsample': [0.8, 1.0],              # Sample Size\n",
    "    'colsample_bytree': [0.8, 1.0],       # Feature Size\n",
    "}\n",
    "\n",
    "grid_search = GridSearchCV(xgb, parameters, cv=5, scoring='accuracy', n_jobs=-1)\n",
    "\n",
    "grid_search.fit(X_train, y_train)\n",
    "\n",
    "print(\"Optimal Parameters: \", grid_search.best_params_)\n",
    "\n",
    "opt = grid_search.best_estimator_\n",
    "opt.fit(X_train, y_train)\n",
    "y_pred = opt.predict(X_test)\n",
    "\n",
    "print('Accuracy: ', accuracy_score(y_test,y_pred))\n",
    "print('Precision: ', precision_score(y_test,y_pred))\n",
    "print('Recall: ', recall_score(y_test,y_pred))\n",
    "print('F1: ', f1_score(y_test,y_pred))\n",
    "print('Confusion Matrix: \\n', confusion_matrix(y_test,y_pred))\n",
    "print('Classification Report: \\n', classification_report(y_test,y_pred))"
   ]
  },
  {
   "cell_type": "markdown",
   "metadata": {},
   "source": [
    "# AdaBoost"
   ]
  },
  {
   "cell_type": "code",
   "execution_count": 91,
   "metadata": {},
   "outputs": [
    {
     "name": "stdout",
     "output_type": "stream",
     "text": [
      "Optimal Parameters:  {'algorithm': 'SAMME.R', 'learning_rate': 0.2, 'n_estimators': 200}\n",
      "Accuracy:  0.723884330598359\n",
      "Precision:  0.7124975929135374\n",
      "Recall:  0.7449914426658613\n",
      "F1:  0.7283823022786554\n",
      "Confusion Matrix: \n",
      " [[7069 2986]\n",
      " [2533 7400]]\n",
      "Classification Report: \n",
      "               precision    recall  f1-score   support\n",
      "\n",
      "           0       0.74      0.70      0.72     10055\n",
      "           1       0.71      0.74      0.73      9933\n",
      "\n",
      "    accuracy                           0.72     19988\n",
      "   macro avg       0.72      0.72      0.72     19988\n",
      "weighted avg       0.72      0.72      0.72     19988\n",
      "\n"
     ]
    }
   ],
   "source": [
    "from sklearn.ensemble import AdaBoostClassifier\n",
    "\n",
    "ada = AdaBoostClassifier(random_state=666)\n",
    "parameters = {\n",
    "    'n_estimators': [50, 100, 200],    # Number of weak hypotheses\n",
    "    'learning_rate': [0.01, 0.1, 0.2],  # Contribution of weak hypotheses\n",
    "    'algorithm': ['SAMME', 'SAMME.R']  # Algorithm\n",
    "}\n",
    "\n",
    "grid_search = GridSearchCV(ada, parameters, cv=5, scoring='accuracy', n_jobs=-1)\n",
    "\n",
    "grid_search.fit(X_train, y_train)\n",
    "\n",
    "print(\"Optimal Parameters: \", grid_search.best_params_)\n",
    "opt = grid_search.best_estimator_\n",
    "opt.fit(X_train, y_train)\n",
    "y_pred = opt.predict(X_test)\n",
    "print('Accuracy: ', accuracy_score(y_test,y_pred))\n",
    "print('Precision: ', precision_score(y_test,y_pred))\n",
    "print('Recall: ', recall_score(y_test,y_pred))\n",
    "print('F1: ', f1_score(y_test,y_pred))\n",
    "print('Confusion Matrix: \\n', confusion_matrix(y_test,y_pred))\n",
    "print('Classification Report: \\n', classification_report(y_test,y_pred))"
   ]
  }
 ],
 "metadata": {
  "kernelspec": {
   "display_name": "kddm",
   "language": "python",
   "name": "python3"
  },
  "language_info": {
   "codemirror_mode": {
    "name": "ipython",
    "version": 3
   },
   "file_extension": ".py",
   "mimetype": "text/x-python",
   "name": "python",
   "nbconvert_exporter": "python",
   "pygments_lexer": "ipython3",
   "version": "3.8.18"
  }
 },
 "nbformat": 4,
 "nbformat_minor": 2
}
